{
 "cells": [
  {
   "cell_type": "markdown",
   "metadata": {},
   "source": [
    "# Functions"
   ]
  },
  {
   "cell_type": "markdown",
   "metadata": {},
   "source": [
    "#### Warm up"
   ]
  },
  {
   "cell_type": "code",
   "execution_count": 7,
   "metadata": {},
   "outputs": [
    {
     "name": "stdout",
     "output_type": "stream",
     "text": [
      "['The Beatles', 'The Rolling Stones', 'The Eagles', 'The Temptations']\n"
     ]
    }
   ],
   "source": [
    "bands1 = ['  thE beATles   ', 'tHe RoLLing sTones..', '.,tHe eagles', 'the tEMptationS  ']\n",
    "\n",
    "# def cleanpu(bands):\n",
    "#     clean_names =[]\n",
    "#     for band in bands:\n",
    "#         clean_name = band.strip('., ').title()\n",
    "#         clean_names.append(clean_name)\n",
    "#     return clean_names\n",
    "# print(cleanpu(bands))\n",
    "\n",
    "clean_bands = []\n",
    "for band in bands1:\n",
    "    clean_band = band.strip('., ').title()\n",
    "    clean_bands.append(clean_band)\n",
    "print(clean_bands)\n",
    "\n"
   ]
  },
  {
   "cell_type": "code",
   "execution_count": null,
   "metadata": {},
   "outputs": [],
   "source": [
    "# Output: ['The Beatles', 'The Rolling Stones', 'The Egles', 'The Temptations',]"
   ]
  },
  {
   "cell_type": "code",
   "execution_count": 14,
   "metadata": {},
   "outputs": [
    {
     "name": "stdout",
     "output_type": "stream",
     "text": [
      "['The Who', 'The Doors', 'The Band', 'The Kinks']\n"
     ]
    }
   ],
   "source": [
    "bands2 = [' The whO  ', '  .   , tHE dOORS  ', ' the bAnd   ', '...,  THE kINks    ']\n",
    "\n",
    "#['The Who', 'The Door', 'The Band', 'The Kinks']\n",
    "\n",
    "clean_bands2 = []\n",
    "for band in bands2:\n",
    "    clean_band = band.strip('., ').title()\n",
    "    clean_bands2.append(clean_band)\n",
    "    \n",
    "print(clean_bands2)\n",
    "\n"
   ]
  },
  {
   "cell_type": "markdown",
   "metadata": {},
   "source": [
    "## Functions"
   ]
  },
  {
   "cell_type": "markdown",
   "metadata": {},
   "source": [
    "##### User-Defined vs. Built-In Function"
   ]
  },
  {
   "cell_type": "code",
   "execution_count": 15,
   "metadata": {},
   "outputs": [
    {
     "name": "stdout",
     "output_type": "stream",
     "text": [
      "<built-in function max>\n",
      "Help on built-in function max in module builtins:\n",
      "\n",
      "max(...)\n",
      "    max(iterable, *[, default=obj, key=func]) -> value\n",
      "    max(arg1, arg2, *args, *[, key=func]) -> value\n",
      "    \n",
      "    With a single iterable argument, return its biggest item. The\n",
      "    default keyword-only argument specifies an object to return if\n",
      "    the provided iterable is empty.\n",
      "    With two or more arguments, return the largest argument.\n",
      "\n"
     ]
    }
   ],
   "source": [
    "# Built-in functions\n",
    "print(max)\n",
    "help(max)"
   ]
  },
  {
   "cell_type": "code",
   "execution_count": 17,
   "metadata": {},
   "outputs": [
    {
     "name": "stdout",
     "output_type": "stream",
     "text": [
      "<function say_hello at 0x7db54c1b6ee0>\n"
     ]
    }
   ],
   "source": [
    "# User Defined Function\n",
    "# Syntax: def function_name():\n",
    "#             <CODE TO EXECUTE WHEN CALLED>\n",
    "\n",
    "# Creating a function\n",
    "def say_hello(): #defining the function\n",
    "    print('Hello')\n",
    "\n",
    "print(say_hello)\n",
    "\n"
   ]
  },
  {
   "cell_type": "code",
   "execution_count": 18,
   "metadata": {},
   "outputs": [
    {
     "name": "stdout",
     "output_type": "stream",
     "text": [
      "Help on function say_hello in module __main__:\n",
      "\n",
      "say_hello()\n",
      "    # Creating a function\n",
      "\n"
     ]
    }
   ],
   "source": [
    "help(say_hello)"
   ]
  },
  {
   "cell_type": "code",
   "execution_count": 19,
   "metadata": {},
   "outputs": [
    {
     "name": "stdout",
     "output_type": "stream",
     "text": [
      "Hello\n"
     ]
    }
   ],
   "source": [
    "# Executing a function\n",
    "# Syntax: function_name()\n",
    "\n",
    "say_hello()\n"
   ]
  },
  {
   "cell_type": "markdown",
   "metadata": {},
   "source": [
    "##### Accepting Parameters"
   ]
  },
  {
   "cell_type": "code",
   "execution_count": 21,
   "metadata": {},
   "outputs": [
    {
     "name": "stdout",
     "output_type": "stream",
     "text": [
      "hello Ryan Teague\n"
     ]
    }
   ],
   "source": [
    "# Syntax: def function_name(param1, param2):\n",
    "#             <CODE TO EXECUTE with variable param1 and param2>\n",
    "\n",
    "\n",
    "def say_hello2(first, last): # first and last are perameters (aka placeholders)\n",
    "    print(f'hello {first} {last}')\n",
    "\n",
    "\n",
    "    \n",
    "# Execute\n",
    "# Syntax: function_name(data1, data2)\n",
    "say_hello2('Ryan', 'Teague') #\"Ryan\" and \"Teague\" are aguements (the real data passed in)\n"
   ]
  },
  {
   "cell_type": "code",
   "execution_count": 22,
   "metadata": {},
   "outputs": [
    {
     "name": "stdout",
     "output_type": "stream",
     "text": [
      "hello Data1 Data2\n"
     ]
    }
   ],
   "source": [
    "say_hello2('Data1', 'Data2')"
   ]
  },
  {
   "cell_type": "code",
   "execution_count": 23,
   "metadata": {},
   "outputs": [
    {
     "ename": "TypeError",
     "evalue": "say_hello2() missing 2 required positional arguments: 'first' and 'last'",
     "output_type": "error",
     "traceback": [
      "\u001b[0;31m---------------------------------------------------------------------------\u001b[0m",
      "\u001b[0;31mTypeError\u001b[0m                                 Traceback (most recent call last)",
      "\u001b[1;32m/home/ryancteague7/CodingTemple/week2/day3/Wednesday_Lecture_Functions-Starter.ipynb Cell 15\u001b[0m line \u001b[0;36m1\n\u001b[0;32m----> <a href='vscode-notebook-cell:/home/ryancteague7/CodingTemple/week2/day3/Wednesday_Lecture_Functions-Starter.ipynb#Y124sZmlsZQ%3D%3D?line=0'>1</a>\u001b[0m say_hello2()\n",
      "\u001b[0;31mTypeError\u001b[0m: say_hello2() missing 2 required positional arguments: 'first' and 'last'"
     ]
    }
   ],
   "source": [
    "#position matters!\n",
    "say_hello2()"
   ]
  },
  {
   "cell_type": "markdown",
   "metadata": {},
   "source": [
    "##### Passing in variables as parameters"
   ]
  },
  {
   "cell_type": "code",
   "execution_count": null,
   "metadata": {},
   "outputs": [],
   "source": [
    "city1 = 'Bosten'\n",
    "state1 = 'MA'\n",
    "zip_code1 = '0214'\n",
    "\n",
    "city2 = 'New York'\n",
    "state2 = 'NY' \n",
    "zip_code2 = '12054'"
   ]
  },
  {
   "cell_type": "code",
   "execution_count": 26,
   "metadata": {},
   "outputs": [],
   "source": [
    "#funcion to fromat on address -> city, state  -- zip code\n",
    "def format_address(city_name, state_code, zip_code):\n",
    "    print(f'{city_name.title()}, {state_code.upper()} -- {zip_code}')\n",
    "\n"
   ]
  },
  {
   "cell_type": "code",
   "execution_count": 28,
   "metadata": {},
   "outputs": [
    {
     "name": "stdout",
     "output_type": "stream",
     "text": [
      "Chicgo, LI -- 20202\n"
     ]
    }
   ],
   "source": [
    "format_address('chicgo','li','20202')"
   ]
  },
  {
   "cell_type": "code",
   "execution_count": 47,
   "metadata": {},
   "outputs": [
    {
     "ename": "NameError",
     "evalue": "name 'city1' is not defined",
     "output_type": "error",
     "traceback": [
      "\u001b[0;31m---------------------------------------------------------------------------\u001b[0m",
      "\u001b[0;31mNameError\u001b[0m                                 Traceback (most recent call last)",
      "\u001b[1;32m/home/ryancteague7/CodingTemple/week2/day3/Wednesday_Lecture_Functions-Starter.ipynb Cell 20\u001b[0m line \u001b[0;36m1\n\u001b[0;32m----> <a href='vscode-notebook-cell:/home/ryancteague7/CodingTemple/week2/day3/Wednesday_Lecture_Functions-Starter.ipynb#Y131sZmlsZQ%3D%3D?line=0'>1</a>\u001b[0m format_address(city1, state1, zip_code1)\n",
      "\u001b[0;31mNameError\u001b[0m: name 'city1' is not defined"
     ]
    }
   ],
   "source": [
    "format_address(city1, state1, zip_code1)"
   ]
  },
  {
   "cell_type": "code",
   "execution_count": 38,
   "metadata": {},
   "outputs": [
    {
     "ename": "NameError",
     "evalue": "name 'city2' is not defined",
     "output_type": "error",
     "traceback": [
      "\u001b[0;31m---------------------------------------------------------------------------\u001b[0m",
      "\u001b[0;31mNameError\u001b[0m                                 Traceback (most recent call last)",
      "\u001b[1;32m/home/ryancteague7/CodingTemple/week2/day3/Wednesday_Lecture_Functions-Starter.ipynb Cell 21\u001b[0m line \u001b[0;36m1\n\u001b[0;32m----> <a href='vscode-notebook-cell:/home/ryancteague7/CodingTemple/week2/day3/Wednesday_Lecture_Functions-Starter.ipynb#Y130sZmlsZQ%3D%3D?line=0'>1</a>\u001b[0m format_address(city2, state2, zip_code2)\n",
      "\u001b[0;31mNameError\u001b[0m: name 'city2' is not defined"
     ]
    }
   ],
   "source": [
    "format_address(city2, state2, zip_code2)"
   ]
  },
  {
   "cell_type": "markdown",
   "metadata": {},
   "source": [
    "##### Keyword Arguments"
   ]
  },
  {
   "cell_type": "code",
   "execution_count": 49,
   "metadata": {},
   "outputs": [],
   "source": [
    "#function for making a payment to a loan\n",
    "\n",
    "def make_payment(total_amount_due, amount_paid, account_number):\n",
    "    new_total = total_amount_due - amount_paid\n",
    "    print(f'you have made a payment of ${new_total} to Account #{account_number}')\n",
    "    print(f'your new balance is ${new_total}')\n",
    "    print(\"Thank you for your payment!\")"
   ]
  },
  {
   "cell_type": "code",
   "execution_count": 53,
   "metadata": {},
   "outputs": [
    {
     "name": "stdout",
     "output_type": "stream",
     "text": [
      "you have made a payment of $900 to Account #3248097\n",
      "your new balance is $900\n",
      "Thank you for your payment!\n"
     ]
    }
   ],
   "source": [
    "make_payment(1000, 100, '3248097') #positional arguments"
   ]
  },
  {
   "cell_type": "code",
   "execution_count": 57,
   "metadata": {},
   "outputs": [
    {
     "name": "stdout",
     "output_type": "stream",
     "text": [
      "you have made a payment of $1300 to Account #2344543\n",
      "your new balance is $1300\n",
      "Thank you for your payment!\n"
     ]
    }
   ],
   "source": [
    "#key word arguments\n",
    "#function_name(param_name1=arg1, param_name2=arg1)\n",
    "make_payment(amount_paid=200, account_number='2344543', total_amount_due=1500)"
   ]
  },
  {
   "cell_type": "markdown",
   "metadata": {},
   "source": [
    "##### Default Parameters"
   ]
  },
  {
   "cell_type": "code",
   "execution_count": 62,
   "metadata": {
    "scrolled": true
   },
   "outputs": [],
   "source": [
    "#def function_name(pos_param1, pos_param2, defual_param1=defaul_val1, default_param2=defualt_val2)\n",
    "#       <code for function gose here>\n",
    "#default parameter need to be after and non-default parmas\n",
    "\n",
    "def make_a_burger(customer_name, cheese=True, lettuce=True, tomato=True, onions=None, bacon=0):\n",
    "    total_price = 4.50\n",
    "    receipt = f'Thank you {customer_name}. here is your receipt:\\n'\n",
    "    receipt += '1 hamburger\\n'\n",
    "    if cheese:\n",
    "        receipt += '\\twith cheese\\n'\n",
    "    if lettuce:\n",
    "        receipt += '\\twith lettuce\\n'\n",
    "    if tomato:\n",
    "        receipt += '\\twith tomato\\n'\n",
    "    if onions:\n",
    "        receipt += f'\\twith {onions} onions\\n'\n",
    "    if bacon:\n",
    "        receipt += f'\\twith {bacon} pieces of bacon\\n'\n",
    "        total_price +=.75*bacon\n",
    "    receipt += f'Total: ${total_price:.2f}'\n",
    "    print(receipt)\n",
    "    \n",
    "    \n",
    "    "
   ]
  },
  {
   "cell_type": "code",
   "execution_count": 63,
   "metadata": {},
   "outputs": [
    {
     "name": "stdout",
     "output_type": "stream",
     "text": [
      "Thank you ryan. here is your receipt:\n",
      "1 hamburger\n",
      "\twith cheese\n",
      "\twith lettuce\n",
      "\twith tomato\n",
      "Total: $4.50\n"
     ]
    }
   ],
   "source": [
    "make_a_burger('ryan')"
   ]
  },
  {
   "cell_type": "code",
   "execution_count": 65,
   "metadata": {},
   "outputs": [
    {
     "name": "stdout",
     "output_type": "stream",
     "text": [
      "Thank you ellen. here is your receipt:\n",
      "1 hamburger\n",
      "\twith lettuce\n",
      "\twith tomato\n",
      "Total: $4.50\n"
     ]
    }
   ],
   "source": [
    "make_a_burger('ellen', False)"
   ]
  },
  {
   "cell_type": "code",
   "execution_count": 66,
   "metadata": {},
   "outputs": [
    {
     "name": "stdout",
     "output_type": "stream",
     "text": [
      "Thank you frank. here is your receipt:\n",
      "1 hamburger\n",
      "\twith cheese\n",
      "\twith lettuce\n",
      "\twith tomato\n",
      "\twith 2 pieces of bacon\n",
      "Total: $6.00\n"
     ]
    }
   ],
   "source": [
    "make_a_burger('frank', True, True, True, None, 2)"
   ]
  },
  {
   "cell_type": "code",
   "execution_count": 67,
   "metadata": {},
   "outputs": [
    {
     "name": "stdout",
     "output_type": "stream",
     "text": [
      "Thank you allin. here is your receipt:\n",
      "1 hamburger\n",
      "\twith cheese\n",
      "\twith lettuce\n",
      "\twith tomato\n",
      "\twith 2 pieces of bacon\n",
      "Total: $6.00\n"
     ]
    }
   ],
   "source": [
    "#keyword arg.\n",
    "make_a_burger('allin',bacon=2)"
   ]
  },
  {
   "cell_type": "markdown",
   "metadata": {},
   "source": [
    "##### \\*args and **kwargs"
   ]
  },
  {
   "cell_type": "code",
   "execution_count": 68,
   "metadata": {},
   "outputs": [
    {
     "name": "stdout",
     "output_type": "stream",
     "text": [
      "Help on built-in function min in module builtins:\n",
      "\n",
      "min(...)\n",
      "    min(iterable, *[, default=obj, key=func]) -> value\n",
      "    min(arg1, arg2, *args, *[, key=func]) -> value\n",
      "    \n",
      "    With a single iterable argument, return its smallest item. The\n",
      "    default keyword-only argument specifies an object to return if\n",
      "    the provided iterable is empty.\n",
      "    With two or more arguments, return the smallest argument.\n",
      "\n"
     ]
    }
   ],
   "source": [
    "help(min)"
   ]
  },
  {
   "cell_type": "code",
   "execution_count": 69,
   "metadata": {
    "scrolled": true
   },
   "outputs": [
    {
     "data": {
      "text/plain": [
       "3"
      ]
     },
     "execution_count": 69,
     "metadata": {},
     "output_type": "execute_result"
    }
   ],
   "source": [
    "min(12, 22, 33, 11, 3, 4)"
   ]
  },
  {
   "cell_type": "code",
   "execution_count": 70,
   "metadata": {},
   "outputs": [
    {
     "name": "stdout",
     "output_type": "stream",
     "text": [
      "Arg1: 1\n",
      "Args: (2, 3, 5, 7, 2, 3, 6, 7, 2, 4) <class 'tuple'>\n"
     ]
    }
   ],
   "source": [
    "def my_function(arg1, *args):\n",
    "    print('Arg1:', arg1)\n",
    "    print('Args:', args, type(args))\n",
    "\n",
    "my_function(1,2,3,5,7,2,3,6,7,2,4)"
   ]
  },
  {
   "cell_type": "code",
   "execution_count": 72,
   "metadata": {},
   "outputs": [
    {
     "name": "stdout",
     "output_type": "stream",
     "text": [
      "(10, 20, 24, 30, 25, 60, 44, 50)\n"
     ]
    },
    {
     "data": {
      "text/plain": [
       "1.25"
      ]
     },
     "execution_count": 72,
     "metadata": {},
     "output_type": "execute_result"
    }
   ],
   "source": [
    "def average(*numbers):\n",
    "    print(numbers)\n",
    "    total = 0\n",
    "    for num in numbers:\n",
    "        total += num\n",
    "        return total / len(numbers)\n",
    "    \n",
    "average(10,20,24,30,25,60,44,50)"
   ]
  },
  {
   "cell_type": "code",
   "execution_count": 76,
   "metadata": {},
   "outputs": [
    {
     "name": "stdout",
     "output_type": "stream",
     "text": [
      "{'name': 'Ryan'}\n",
      "<class 'dict'>\n"
     ]
    }
   ],
   "source": [
    "def another_function(**kwags):\n",
    "    print(kwags)\n",
    "    print(type(kwags))\n",
    "\n",
    "another_function(name='Ryan')"
   ]
  },
  {
   "cell_type": "markdown",
   "metadata": {},
   "source": [
    "#### In Class Exercise 1"
   ]
  },
  {
   "cell_type": "markdown",
   "metadata": {},
   "source": [
    "Create a function that takes in a color, make, and model and formats it into a string.<br>\n",
    "Then loop over the cars list and apply the function to each element.<br>\n",
    "Expected Output:<br>\n",
    "<code>Blue Toyota Tundra\n",
    "Green Chevy Silverado\n",
    "Pink Ford F-150</code>\n"
   ]
  },
  {
   "cell_type": "code",
   "execution_count": 80,
   "metadata": {},
   "outputs": [
    {
     "name": "stdout",
     "output_type": "stream",
     "text": [
      "Yellow Ford Focus\n"
     ]
    }
   ],
   "source": [
    "cars  = [\n",
    "    ('blue', 'toyota', 'tundrs'),\n",
    "    ('green', 'chevy', 'silverado'),\n",
    "    ('pink', 'ford', 'f-150'),\n",
    "    ('red', 'ford', 'mustang')\n",
    "]\n",
    "\n",
    "def format_car(color, make, model):\n",
    "    print(f'{color} {make} {model}'.title())\n",
    "\n",
    "format_car('yellow', 'ford', 'focus')"
   ]
  },
  {
   "cell_type": "code",
   "execution_count": 86,
   "metadata": {},
   "outputs": [
    {
     "name": "stdout",
     "output_type": "stream",
     "text": [
      "Blue Toyota Tundrs\n",
      "Green Chevy Silverado\n",
      "Pink Ford F-150\n",
      "Red Ford Mustang\n"
     ]
    }
   ],
   "source": [
    "for car in cars:\n",
    "    format_car(car[0], car[1], car[2])"
   ]
  },
  {
   "cell_type": "code",
   "execution_count": 94,
   "metadata": {},
   "outputs": [
    {
     "name": "stdout",
     "output_type": "stream",
     "text": [
      "ryan\n",
      "teague\n",
      "miami\n"
     ]
    }
   ],
   "source": [
    "#tuples allows us to unpack valus into variables\n",
    "\n",
    "tup = ('ryan', 'teague', 'miami')\n",
    "\n",
    "first, last, city = tup\n",
    "\n",
    "print(first)\n",
    "print(last)\n",
    "print(city)"
   ]
  },
  {
   "cell_type": "code",
   "execution_count": 95,
   "metadata": {},
   "outputs": [
    {
     "name": "stdout",
     "output_type": "stream",
     "text": [
      "Blue Toyota Tundrs\n",
      "Green Chevy Silverado\n",
      "Pink Ford F-150\n",
      "Red Ford Mustang\n"
     ]
    }
   ],
   "source": [
    "for col, mk, md in cars:\n",
    "    format_car(col, mk, md)"
   ]
  },
  {
   "cell_type": "code",
   "execution_count": 96,
   "metadata": {},
   "outputs": [],
   "source": [
    "def format_car_args(*args):\n",
    "    print(' '.join(args).title())"
   ]
  },
  {
   "cell_type": "code",
   "execution_count": 98,
   "metadata": {},
   "outputs": [
    {
     "name": "stdout",
     "output_type": "stream",
     "text": [
      "2020 Used Toyota Camry With Sunroof\n"
     ]
    }
   ],
   "source": [
    "format_car_args('2020', 'used', 'toyota', 'camry', 'with sunroof')"
   ]
  },
  {
   "cell_type": "markdown",
   "metadata": {},
   "source": [
    "## Scope <br>\n",
    "<p>Scope refers to the ability to access variables, different types of scope include:<br>a) Global<br>b) Function (local)<br>c) Class (local)</p>"
   ]
  },
  {
   "cell_type": "code",
   "execution_count": 100,
   "metadata": {},
   "outputs": [
    {
     "name": "stdout",
     "output_type": "stream",
     "text": [
      "Ryan has been assigned to Mr. Haskins's class\n"
     ]
    }
   ],
   "source": [
    "teacher = 'Ms. Buttercup' #this is a global variable\n",
    "\n",
    "def assign_student(student_name): #student_name is a local variable (function)\n",
    "    teacher = 'Mr. Haskins'\n",
    "    print(f\"{student_name} has been assigned to {teacher}'s class\")\n",
    "\n",
    "assign_student('Ryan')\n",
    "# print(student_name) #nameError: name 'student_name' is not defined"
   ]
  },
  {
   "cell_type": "code",
   "execution_count": 102,
   "metadata": {},
   "outputs": [],
   "source": [
    "# evens_only = [] # Define global variable evens_only\n",
    "\n",
    "def get_evens(list_of_numbers):\n",
    "    evens_only = [] # Define a local variable\n",
    "    # Loop through the argument list\n",
    "    for number in list_of_numbers:\n",
    "        # Check if the number is even\n",
    "        if number % 2 == 0:\n",
    "            # Add the number to evens_only list\n",
    "            evens_only.append(number)\n",
    "    # Once finished looping, print the evens_only list\n",
    "    print(evens_only)\n"
   ]
  },
  {
   "cell_type": "code",
   "execution_count": 103,
   "metadata": {},
   "outputs": [
    {
     "name": "stdout",
     "output_type": "stream",
     "text": [
      "[2, 4, 6, 8, 10]\n"
     ]
    }
   ],
   "source": [
    "get_evens([1, 2, 3, 4, 5, 6, 7, 8, 9, 10])"
   ]
  },
  {
   "cell_type": "code",
   "execution_count": 104,
   "metadata": {},
   "outputs": [
    {
     "name": "stdout",
     "output_type": "stream",
     "text": [
      "['a', 'b', 'c', 'd']\n"
     ]
    }
   ],
   "source": [
    "my_list = ['a', 'b', 'c']\n",
    "my_list.append('d') # .append method is scoped to the list class\n",
    "print(my_list)"
   ]
  },
  {
   "cell_type": "code",
   "execution_count": 105,
   "metadata": {},
   "outputs": [
    {
     "name": "stdout",
     "output_type": "stream",
     "text": [
      "[45, 27, 99, 85, 5, 90, 7, 94, 45, 5, 32, 87, 26, 41, 63, 25, 64, 13, 40, 32]\n"
     ]
    }
   ],
   "source": [
    "from random import randint\n",
    "\n",
    "random_nums = [randint(1,100) for _ in range(20)]\n",
    "print(random_nums)"
   ]
  },
  {
   "cell_type": "code",
   "execution_count": 106,
   "metadata": {},
   "outputs": [
    {
     "name": "stdout",
     "output_type": "stream",
     "text": [
      "[90, 94, 32, 26, 64, 40, 32]\n",
      "None\n"
     ]
    },
    {
     "ename": "TypeError",
     "evalue": "'NoneType' object is not iterable",
     "output_type": "error",
     "traceback": [
      "\u001b[0;31m---------------------------------------------------------------------------\u001b[0m",
      "\u001b[0;31mTypeError\u001b[0m                                 Traceback (most recent call last)",
      "\u001b[1;32m/home/ryancteague7/CodingTemple/week2/day3/Wednesday_Lecture_Functions-Starter.ipynb Cell 52\u001b[0m line \u001b[0;36m7\n\u001b[1;32m      <a href='vscode-notebook-cell:/home/ryancteague7/CodingTemple/week2/day3/Wednesday_Lecture_Functions-Starter.ipynb#Y140sZmlsZQ%3D%3D?line=2'>3</a>\u001b[0m evens \u001b[39m=\u001b[39m get_evens(random_nums)\n\u001b[1;32m      <a href='vscode-notebook-cell:/home/ryancteague7/CodingTemple/week2/day3/Wednesday_Lecture_Functions-Starter.ipynb#Y140sZmlsZQ%3D%3D?line=4'>5</a>\u001b[0m \u001b[39mprint\u001b[39m(evens)\n\u001b[0;32m----> <a href='vscode-notebook-cell:/home/ryancteague7/CodingTemple/week2/day3/Wednesday_Lecture_Functions-Starter.ipynb#Y140sZmlsZQ%3D%3D?line=6'>7</a>\u001b[0m \u001b[39mfor\u001b[39;00m num \u001b[39min\u001b[39;00m evens:\n\u001b[1;32m      <a href='vscode-notebook-cell:/home/ryancteague7/CodingTemple/week2/day3/Wednesday_Lecture_Functions-Starter.ipynb#Y140sZmlsZQ%3D%3D?line=7'>8</a>\u001b[0m     \u001b[39mprint\u001b[39m(num\u001b[39m*\u001b[39m\u001b[39m*\u001b[39m\u001b[39m2\u001b[39m)\n",
      "\u001b[0;31mTypeError\u001b[0m: 'NoneType' object is not iterable"
     ]
    }
   ],
   "source": [
    "# Get all of the even numbers and then print each even number squared\n",
    "\n",
    "evens = get_evens(random_nums)\n",
    "\n",
    "print(evens)\n",
    "\n",
    "for num in evens:\n",
    "    print(num**2)"
   ]
  },
  {
   "cell_type": "markdown",
   "metadata": {},
   "source": [
    "##### Returning Values"
   ]
  },
  {
   "cell_type": "code",
   "execution_count": 108,
   "metadata": {},
   "outputs": [
    {
     "name": "stdout",
     "output_type": "stream",
     "text": [
      "10\n"
     ]
    }
   ],
   "source": [
    "# Mathematical Function - y = f(x)\n",
    "# Where f is the function, x is the input(s), and y is the dependent variable (or the return variable)\n",
    "\n",
    "def f(x):\n",
    "    return x*2\n",
    "\n",
    "y = f(5)\n",
    "print(y)"
   ]
  },
  {
   "cell_type": "code",
   "execution_count": 109,
   "metadata": {},
   "outputs": [
    {
     "name": "stdout",
     "output_type": "stream",
     "text": [
      "20\n",
      "400\n"
     ]
    }
   ],
   "source": [
    "z = f(10)\n",
    "print(z)\n",
    "print(z**2)"
   ]
  },
  {
   "cell_type": "code",
   "execution_count": null,
   "metadata": {},
   "outputs": [],
   "source": []
  },
  {
   "cell_type": "code",
   "execution_count": 110,
   "metadata": {
    "scrolled": true
   },
   "outputs": [
    {
     "name": "stdout",
     "output_type": "stream",
     "text": [
      "0\n"
     ]
    }
   ],
   "source": [
    "# Return will also immediately terminate the function\n",
    "\n",
    "def early_return(n):\n",
    "    for i in range(n):\n",
    "        return i\n",
    "        \n",
    "        \n",
    "output = early_return(10000000)\n",
    "print(output)"
   ]
  },
  {
   "cell_type": "code",
   "execution_count": 111,
   "metadata": {},
   "outputs": [
    {
     "name": "stdout",
     "output_type": "stream",
     "text": [
      "Function started...\n",
      "0\n",
      "1\n",
      "2\n",
      "3\n",
      "4\n",
      "The output of the function is 5\n"
     ]
    }
   ],
   "source": [
    "def another_early(n):\n",
    "    print('Function started...')\n",
    "    for i in range(n):\n",
    "        if i == 5:\n",
    "            return i\n",
    "        print(i)\n",
    "    print('Function finished')\n",
    "    \n",
    "    \n",
    "output2 = another_early(10)\n",
    "print('The output of the function is',output2)"
   ]
  },
  {
   "cell_type": "markdown",
   "metadata": {},
   "source": [
    "#### Multiple returns in a function"
   ]
  },
  {
   "cell_type": "code",
   "execution_count": 112,
   "metadata": {},
   "outputs": [],
   "source": [
    "names = ['Brian', 'Sarah', 'Kevin', 'Brandt', 'Shoha', 'Katie', 'Ryan', 'Dylan']\n",
    "\n",
    "# Write a function that will return a boolean on whether a name is in the list of names\n",
    "def is_in_names(person_name):\n",
    "    # Loop through the list of names (from global variable)\n",
    "    for name in names:\n",
    "#         print('We are currently checking:', name)\n",
    "        # Check if the name from the list matches the argument name\n",
    "        if name == person_name:\n",
    "            # The person is in the list, so we return True\n",
    "            return True\n",
    "    # If we get through the entire list, we know the person is not in the list so we return False\n",
    "    return False"
   ]
  },
  {
   "cell_type": "code",
   "execution_count": 113,
   "metadata": {},
   "outputs": [
    {
     "data": {
      "text/plain": [
       "True"
      ]
     },
     "execution_count": 113,
     "metadata": {},
     "output_type": "execute_result"
    }
   ],
   "source": [
    "is_in_names('Kevin')"
   ]
  },
  {
   "cell_type": "code",
   "execution_count": 114,
   "metadata": {},
   "outputs": [
    {
     "data": {
      "text/plain": [
       "False"
      ]
     },
     "execution_count": 114,
     "metadata": {},
     "output_type": "execute_result"
    }
   ],
   "source": [
    "is_in_names('Michael')"
   ]
  },
  {
   "cell_type": "code",
   "execution_count": 115,
   "metadata": {},
   "outputs": [
    {
     "data": {
      "text/plain": [
       "True"
      ]
     },
     "execution_count": 115,
     "metadata": {},
     "output_type": "execute_result"
    }
   ],
   "source": [
    "is_in_names('Katie')"
   ]
  },
  {
   "cell_type": "code",
   "execution_count": 1,
   "metadata": {},
   "outputs": [
    {
     "name": "stdout",
     "output_type": "stream",
     "text": [
      "False\n",
      "True\n"
     ]
    }
   ],
   "source": [
    "def can_vote(birth_year):\n",
    "    if 2023 - birth_year >= 18:\n",
    "        return True\n",
    "    else:\n",
    "        return False\n",
    "    \n",
    "print(can_vote(2010))\n",
    "print(can_vote(2000))"
   ]
  },
  {
   "cell_type": "code",
   "execution_count": 2,
   "metadata": {},
   "outputs": [],
   "source": [
    "def score_calculator():\n",
    "    scores = []\n",
    "    \n",
    "    while True:\n",
    "        score = input('Please enter a score or enter \"done\" when done. ').lower()\n",
    "        if score == 'done':\n",
    "            break\n",
    "        scores.append(int(score))\n",
    "    \n",
    "    top_score = max_score(*scores)\n",
    "    print(f\"Congrats to the winner with a top score of {top_score}!\")"
   ]
  },
  {
   "cell_type": "code",
   "execution_count": 5,
   "metadata": {},
   "outputs": [],
   "source": [
    "def score_calculator():\n",
    "    scores = []\n",
    "    \n",
    "    while True:\n",
    "        score = input('Please enter a score or enter \"done\" when done. ').lower()\n",
    "        if score == 'done':\n",
    "            break\n",
    "        scores.append(int(score))\n",
    "    \n",
    "    top_score = max_score(*scores)\n",
    "    print(f\"Congrats to the winner with a top score of {top_score}!\")"
   ]
  },
  {
   "cell_type": "code",
   "execution_count": 6,
   "metadata": {},
   "outputs": [],
   "source": [
    "score_calculator()"
   ]
  },
  {
   "cell_type": "markdown",
   "metadata": {},
   "source": [
    "##### Difference between `return` and `print`"
   ]
  },
  {
   "cell_type": "code",
   "execution_count": 1,
   "metadata": {},
   "outputs": [],
   "source": [
    "# (3, 7, 2, 4)\n",
    "\n",
    "def max_score(*scores):\n",
    "    current_max = 0\n",
    "    for score in scores:\n",
    "        if score > current_max:\n",
    "            current_max = score\n",
    "    return current_max"
   ]
  },
  {
   "cell_type": "markdown",
   "metadata": {},
   "source": [
    "#### Functions with Lists"
   ]
  },
  {
   "cell_type": "code",
   "execution_count": 1,
   "metadata": {},
   "outputs": [],
   "source": [
    "def clean_band_names(bands_list):\n",
    "    return [band.strip(' .,').title() for band in bands_list]"
   ]
  },
  {
   "cell_type": "code",
   "execution_count": 2,
   "metadata": {},
   "outputs": [
    {
     "ename": "NameError",
     "evalue": "name 'bands1' is not defined",
     "output_type": "error",
     "traceback": [
      "\u001b[0;31m---------------------------------------------------------------------------\u001b[0m",
      "\u001b[0;31mNameError\u001b[0m                                 Traceback (most recent call last)",
      "\u001b[1;32m/home/ryancteague7/CodingTemple/week2/day3/Wednesday_Lecture_Functions-Starter.ipynb Cell 72\u001b[0m line \u001b[0;36m1\n\u001b[0;32m----> <a href='vscode-notebook-cell:/home/ryancteague7/CodingTemple/week2/day3/Wednesday_Lecture_Functions-Starter.ipynb#Y105sZmlsZQ%3D%3D?line=0'>1</a>\u001b[0m clean1 \u001b[39m=\u001b[39m clean_band_names(bands1)\n\u001b[1;32m      <a href='vscode-notebook-cell:/home/ryancteague7/CodingTemple/week2/day3/Wednesday_Lecture_Functions-Starter.ipynb#Y105sZmlsZQ%3D%3D?line=1'>2</a>\u001b[0m \u001b[39mprint\u001b[39m(clean1)\n",
      "\u001b[0;31mNameError\u001b[0m: name 'bands1' is not defined"
     ]
    }
   ],
   "source": [
    "clean1 = clean_band_names(bands1)\n",
    "print(clean1)"
   ]
  },
  {
   "cell_type": "code",
   "execution_count": 3,
   "metadata": {},
   "outputs": [
    {
     "ename": "NameError",
     "evalue": "name 'bands2' is not defined",
     "output_type": "error",
     "traceback": [
      "\u001b[0;31m---------------------------------------------------------------------------\u001b[0m",
      "\u001b[0;31mNameError\u001b[0m                                 Traceback (most recent call last)",
      "\u001b[1;32m/home/ryancteague7/CodingTemple/week2/day3/Wednesday_Lecture_Functions-Starter.ipynb Cell 73\u001b[0m line \u001b[0;36m1\n\u001b[0;32m----> <a href='vscode-notebook-cell:/home/ryancteague7/CodingTemple/week2/day3/Wednesday_Lecture_Functions-Starter.ipynb#Y106sZmlsZQ%3D%3D?line=0'>1</a>\u001b[0m clean2 \u001b[39m=\u001b[39m clean_band_names(bands2)\n\u001b[1;32m      <a href='vscode-notebook-cell:/home/ryancteague7/CodingTemple/week2/day3/Wednesday_Lecture_Functions-Starter.ipynb#Y106sZmlsZQ%3D%3D?line=1'>2</a>\u001b[0m \u001b[39mprint\u001b[39m(clean2)\n",
      "\u001b[0;31mNameError\u001b[0m: name 'bands2' is not defined"
     ]
    }
   ],
   "source": [
    "clean2 = clean_band_names(bands2)\n",
    "print(clean2)"
   ]
  },
  {
   "cell_type": "markdown",
   "metadata": {},
   "source": [
    "#### In-Class Exercise 2"
   ]
  },
  {
   "cell_type": "markdown",
   "metadata": {},
   "source": [
    "Create a function that takes in the list of tuples ('city', 'country') and a country name and returns a list of the cities in that country"
   ]
  },
  {
   "cell_type": "code",
   "execution_count": 6,
   "metadata": {},
   "outputs": [],
   "source": [
    "euro_cities = [\n",
    "    (\"London\", \"England\"), \n",
    "    (\"Manchester\", \"England\"), \n",
    "    (\"Barcelona\", \"Spain\"), \n",
    "    (\"Madrid\", \"Spain\"), \n",
    "    (\"Rome\", \"Italy\"), \n",
    "    (\"Florence\", \"Italy\")\n",
    "]\n",
    "\n",
    "nor_so_am_cities = [\n",
    "    (\"Mexico City\", \"Mexico\"),\n",
    "    (\"Buenos Aires\", \"Argentina\"),\n",
    "    (\"Sao Paulo\", \"Brazil\"),\n",
    "    (\"Santiago\", \"Chile\"),\n",
    "    (\"Rio De Janeiro\", \"Brazil\")\n",
    "]\n",
    "\n",
    "\n",
    "\n",
    "def cities_in_country(list_of_tuples, country_name):\n",
    "    city_list = []\n",
    "    # Loop through each tuple in the list of tuples\n",
    "    for city, country in list_of_tuples:\n",
    "        # Check to see if the country in the tuple matches the country_name argument\n",
    "        if country == country_name:\n",
    "            # If it does match, add the city name to a list of cities\n",
    "            city_list.append(city)\n",
    "        # If not, move on to the next tuple\n",
    "    # Once we've checked every tuple, return the list of cities\n",
    "    return city_list"
   ]
  },
  {
   "cell_type": "code",
   "execution_count": 7,
   "metadata": {},
   "outputs": [
    {
     "name": "stdout",
     "output_type": "stream",
     "text": [
      "['Rome', 'Florence']\n",
      "['Barcelona', 'Madrid']\n",
      "['Sao Paulo', 'Rio De Janeiro']\n"
     ]
    }
   ],
   "source": [
    "print(cities_in_country(euro_cities, 'Italy')) #['Rome', 'Florence']\n",
    "print(cities_in_country(euro_cities, 'Spain')) #['Barcelona', 'Madrid']\n",
    "print(cities_in_country(nor_so_am_cities, 'Brazil')) #['Sao Paolo', 'Rio De Janeiro']"
   ]
  },
  {
   "cell_type": "code",
   "execution_count": 8,
   "metadata": {},
   "outputs": [
    {
     "name": "stdout",
     "output_type": "stream",
     "text": [
      "['Rome', 'Florence']\n",
      "['Barcelona', 'Madrid']\n",
      "['Sao Paulo', 'Rio De Janeiro']\n"
     ]
    }
   ],
   "source": [
    "def cities_in_country2(tuples, country_name):\n",
    "    return [city for city, country in tuples if country == country_name]\n",
    "\n",
    "print(cities_in_country2(euro_cities, 'Italy')) # ['Rome', 'Florence']\n",
    "print(cities_in_country2(euro_cities, 'Spain')) # ['Barcelona', 'Madrid']\n",
    "print(cities_in_country2(nor_so_am_cities, 'Brazil')) # ['Sao Paolo', 'Rio De Janeiro']"
   ]
  },
  {
   "cell_type": "code",
   "execution_count": null,
   "metadata": {},
   "outputs": [],
   "source": []
  },
  {
   "cell_type": "markdown",
   "metadata": {},
   "source": [
    "#### Docstrings"
   ]
  },
  {
   "cell_type": "code",
   "execution_count": 9,
   "metadata": {},
   "outputs": [
    {
     "name": "stdout",
     "output_type": "stream",
     "text": [
      "Help on built-in function len in module builtins:\n",
      "\n",
      "len(obj, /)\n",
      "    Return the number of items in a container.\n",
      "\n"
     ]
    }
   ],
   "source": [
    "help(len)"
   ]
  },
  {
   "cell_type": "code",
   "execution_count": 10,
   "metadata": {},
   "outputs": [
    {
     "name": "stdout",
     "output_type": "stream",
     "text": [
      "Help on function cities_in_country2 in module __main__:\n",
      "\n",
      "cities_in_country2(tuples, country_name)\n",
      "\n"
     ]
    }
   ],
   "source": [
    "help(cities_in_country2)"
   ]
  },
  {
   "cell_type": "code",
   "execution_count": 11,
   "metadata": {},
   "outputs": [],
   "source": [
    "# A docstring is a string that is directly after our function definition, first line function code block\n",
    "\n",
    "def add_nums(num1, num2):\n",
    "    '''\n",
    "    add_nums takes in two number types (int or float) and will return the two added together\n",
    "    num1 -> int or float\n",
    "    num2 -> int or float\n",
    "    returns int or float\n",
    "    '''\n",
    "    return num1 + num2"
   ]
  },
  {
   "cell_type": "code",
   "execution_count": 12,
   "metadata": {},
   "outputs": [
    {
     "name": "stdout",
     "output_type": "stream",
     "text": [
      "30\n"
     ]
    }
   ],
   "source": [
    "total = add_nums(10, 20)\n",
    "print(total)"
   ]
  }
 ],
 "metadata": {
  "kernelspec": {
   "display_name": "Python 3 (ipykernel)",
   "language": "python",
   "name": "python3"
  },
  "language_info": {
   "codemirror_mode": {
    "name": "ipython",
    "version": 3
   },
   "file_extension": ".py",
   "mimetype": "text/x-python",
   "name": "python",
   "nbconvert_exporter": "python",
   "pygments_lexer": "ipython3",
   "version": "3.9.2"
  }
 },
 "nbformat": 4,
 "nbformat_minor": 2
}
